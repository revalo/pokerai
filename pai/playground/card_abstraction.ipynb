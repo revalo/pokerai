{
 "cells": [
  {
   "cell_type": "code",
   "execution_count": 3,
   "metadata": {},
   "outputs": [],
   "source": [
    "import numpy as np\n",
    "import matplotlib.pyplot as plt\n",
    "from treys.card import Card\n",
    "from treys.deck import Deck\n",
    "from treys.evaluator import Evaluator\n",
    "import random\n",
    "import tqdm"
   ]
  },
  {
   "cell_type": "code",
   "execution_count": 18,
   "metadata": {},
   "outputs": [],
   "source": [
    "ranks = \"23456789TJQKA\"\n",
    "suits = \"cdhs\"\n",
    "deck = [f\"{rank}{suit}\" for rank in ranks for suit in suits]\n",
    "evaluator = Evaluator()\n",
    "\n",
    "def new_deck():\n",
    "    return deck[:]\n",
    "\n",
    "def simulate(hand, num_player_sims=1000, num_sims=1000):\n",
    "    my_cards = [Card.new(c) for c in hand]\n",
    "    deck = new_deck()\n",
    "    deck_indexes_no_comm = list(range(len(deck) - 2 - 5))\n",
    "    for card in hand:\n",
    "        deck.remove(card)\n",
    "\n",
    "    points = []\n",
    "\n",
    "    for _ in tqdm.trange(num_sims):\n",
    "        random.shuffle(deck)\n",
    "        community_cards = [Card.new(deck.pop()) for _ in range(5)]\n",
    "        wins = 0\n",
    "        for _ in range(num_player_sims):\n",
    "            # Draw other player's cards without removing from deck.\n",
    "            random.shuffle(deck_indexes_no_comm)\n",
    "            other_player_cards = [Card.new(deck[i]) for i in deck_indexes_no_comm[:2]]\n",
    "            my_hand = evaluator.evaluate(my_cards, community_cards)\n",
    "            other_player_hand = evaluator.evaluate(other_player_cards, community_cards)\n",
    "            wins += my_hand < other_player_hand\n",
    "        hand_strength = wins / num_player_sims\n",
    "        points.append(hand_strength)\n",
    "        for card in community_cards:\n",
    "            deck.append(Card.int_to_str(card))\n",
    "\n",
    "    return points"
   ]
  },
  {
   "cell_type": "code",
   "execution_count": 67,
   "metadata": {},
   "outputs": [
    {
     "data": {
      "image/png": "[encoded data removed]",
      "text/plain": [
       "<Figure size 432x288 with 1 Axes>"
      ]
     },
     "metadata": {
      "needs_background": "light"
     },
     "output_type": "display_data"
    }
   ],
   "source": [
    "\n",
    "strengths = simulate((\"6s\", \"6h\",))\n",
    "plt.hist(strengths, bins=100, density=True)\n",
    "plt.show()"
   ]
  },
  {
   "cell_type": "code",
   "execution_count": 65,
   "metadata": {},
   "outputs": [
    {
     "data": {
      "image/png": "[encoded data removed]",
      "text/plain": [
       "<Figure size 432x288 with 1 Axes>"
      ]
     },
     "metadata": {
      "needs_background": "light"
     },
     "output_type": "display_data"
    }
   ],
   "source": [
    "plt.hist(strengths, bins=100, density=True)\n",
    "plt.show()"
   ]
  },
  {
   "cell_type": "code",
   "execution_count": null,
   "metadata": {},
   "outputs": [],
   "source": []
  },
  {
   "cell_type": "markdown",
   "metadata": {},
   "source": [
    "Try chi-square"
   ]
  },
  {
   "cell_type": "code",
   "execution_count": 53,
   "metadata": {},
   "outputs": [
    {
     "data": {
      "text/plain": [
       "0.805050505050505"
      ]
     },
     "execution_count": 53,
     "metadata": {},
     "output_type": "execute_result"
    }
   ],
   "source": [
    "def hand_strength(my_cards, community_cards):\n",
    "    my_cards_lut = set(my_cards)\n",
    "    my_cards = [Card.new(c) for c in my_cards]\n",
    "    comm_card_lut = set(community_cards)\n",
    "    community_cards = [Card.new(c) for c in community_cards]\n",
    "\n",
    "    wins = 0\n",
    "    total = 0\n",
    "\n",
    "    # deck = new_deck()\n",
    "    # for card in my_cards:\n",
    "    #     deck.remove(card)\n",
    "    # for card in community_cards:\n",
    "    #     deck.remove(card)\n",
    "\n",
    "    # my_cards = [Card.new(c) for c in my_cards]\n",
    "    # community_cards = [Card.new(c) for c in community_cards]\n",
    "\n",
    "    # for _ in range(1000):\n",
    "    #     random.shuffle(deck)\n",
    "    #     opp_card1_s = deck[0]\n",
    "    #     opp_card2_s = deck[1]\n",
    "\n",
    "    #     opp_cards = [Card.new(opp_card1_s), Card.new(opp_card2_s)]\n",
    "    #     my_hand = evaluator.evaluate(my_cards, community_cards)\n",
    "    #     opp_hand = evaluator.evaluate(opp_cards, community_cards)\n",
    "\n",
    "    #     if my_hand < opp_hand:\n",
    "    #         wins += 1\n",
    "    #     total += 1\n",
    "\n",
    "    for opp_card1 in range(52):\n",
    "        opp_card1_s = deck[opp_card1]\n",
    "        if opp_card1_s in my_cards_lut or opp_card1_s in comm_card_lut:\n",
    "            continue\n",
    "        for opp_card2 in range(opp_card1 + 1, 52):\n",
    "            opp_card2_s = deck[opp_card2]\n",
    "            if opp_card2_s in my_cards_lut or opp_card2_s in comm_card_lut:\n",
    "                continue\n",
    "            \n",
    "            opp_cards = [Card.new(opp_card1_s), Card.new(opp_card2_s)]\n",
    "            my_hand = evaluator.evaluate(my_cards, community_cards)\n",
    "            opp_hand = evaluator.evaluate(opp_cards, community_cards)\n",
    "\n",
    "            if my_hand < opp_hand:\n",
    "                wins += 1\n",
    "            total += 1\n",
    "\n",
    "    return wins / total\n",
    "\n",
    "def get_strengths(hand, num_sims=1000):\n",
    "    deck = new_deck()\n",
    "    for card in hand:\n",
    "        deck.remove(card)\n",
    "\n",
    "    rv = []\n",
    "    \n",
    "    for _ in tqdm.trange(num_sims):\n",
    "        random.shuffle(deck)\n",
    "        community_cards = deck[:5]\n",
    "        strength = hand_strength(hand, community_cards)\n",
    "        rv.append(strength)\n",
    "\n",
    "    return rv\n",
    "\n",
    "\n",
    "\n",
    "# Ks3h\n",
    "# 2c4c5hAcAd\n",
    "hand_strength((\"Ks\", \"3h\",), (\"2c\", \"4c\", \"5h\", \"Ac\", \"Ad\",))\n",
    "\n",
    "# for _ in tqdm.trange(10000):\n",
    "#     hand_strength([\"Ah\", \"Qc\"], [\"7c\", \"8c\", \"9c\", \"Tc\", \"Jc\"])"
   ]
  },
  {
   "cell_type": "code",
   "execution_count": 1,
   "metadata": {},
   "outputs": [],
   "source": [
    "with open(\"../../build/dist.txt\", \"r\") as f:\n",
    "    dist = f.read().split(\"\\n\")\n",
    "dist_vals = [float(line.strip()) for line in dist if line.strip()]"
   ]
  },
  {
   "cell_type": "code",
   "execution_count": 4,
   "metadata": {},
   "outputs": [
    {
     "data": {
      "image/png": "[encoded data removed]",
      "text/plain": [
       "<Figure size 432x288 with 1 Axes>"
      ]
     },
     "metadata": {
      "needs_background": "light"
     },
     "output_type": "display_data"
    }
   ],
   "source": [
    "plt.hist(dist_vals, bins=50, density=True)\n",
    "plt.show()"
   ]
  },
  {
   "cell_type": "code",
   "execution_count": 60,
   "metadata": {},
   "outputs": [
    {
     "name": "stderr",
     "output_type": "stream",
     "text": [
      "100%|██████████| 1000/1000 [00:38<00:00, 25.97it/s]\n"
     ]
    }
   ],
   "source": [
    "# strengths = simulate((\"Ts\", \"Js\",))\n",
    "strengths = get_strengths((\"Ts\", \"Js\",))"
   ]
  },
  {
   "cell_type": "code",
   "execution_count": 55,
   "metadata": {},
   "outputs": [
    {
     "data": {
      "image/png": "[encoded data removed]",
      "text/plain": [
       "<Figure size 432x288 with 1 Axes>"
      ]
     },
     "metadata": {
      "needs_background": "light"
     },
     "output_type": "display_data"
    }
   ],
   "source": [
    "plt.hist(strengths, bins=100, density=True)\n",
    "plt.show()"
   ]
  },
  {
   "cell_type": "code",
   "execution_count": 61,
   "metadata": {},
   "outputs": [
    {
     "data": {
      "text/plain": [
       "0.1797979797979798"
      ]
     },
     "execution_count": 61,
     "metadata": {},
     "output_type": "execute_result"
    }
   ],
   "source": [
    "hand_strength((\"Ts\", \"Js\",), (\"2c\", \"4c\", \"5h\", \"Ac\", \"Ad\",))"
   ]
  },
  {
   "cell_type": "code",
   "execution_count": null,
   "metadata": {},
   "outputs": [],
   "source": []
  }
 ],
 "metadata": {
  "interpreter": {
   "hash": "d3052e4e95856f191c70944d34dc8a88b882e97c60324a0ab85812ea24714355"
  },
  "kernelspec": {
   "display_name": "Python 3.9.7 ('tensorflow')",
   "language": "python",
   "name": "python3"
  },
  "language_info": {
   "codemirror_mode": {
    "name": "ipython",
    "version": 3
   },
   "file_extension": ".py",
   "mimetype": "text/x-python",
   "name": "python",
   "nbconvert_exporter": "python",
   "pygments_lexer": "ipython3",
   "version": "3.9.7"
  },
  "orig_nbformat": 4
 },
 "nbformat": 4,
 "nbformat_minor": 2
}
