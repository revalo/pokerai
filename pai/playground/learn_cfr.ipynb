{
 "cells": [
  {
   "cell_type": "code",
   "execution_count": 38,
   "metadata": {},
   "outputs": [],
   "source": [
    "import numpy as np\n",
    "import matplotlib.pyplot as plt\n",
    "\n",
    "# Suppress scientific notation.\n",
    "np.set_printoptions(suppress=True)"
   ]
  },
  {
   "cell_type": "code",
   "execution_count": 53,
   "metadata": {},
   "outputs": [],
   "source": [
    "class RPSTrainer:\n",
    "    def __init__(self):\n",
    "        self.NUM_ACTIONS = 3\n",
    "        self.regretSum = np.zeros(self.NUM_ACTIONS)\n",
    "        self.strategySum = np.zeros(self.NUM_ACTIONS)\n",
    "        self.oppStrategy = [1/3, 1/3, 1/3]\n",
    "    \n",
    "    def getStrategy(self):\n",
    "        strategy = self.regretSum.clip(min=0)\n",
    "        normalizingSum = np.sum(strategy)\n",
    "        if normalizingSum > 0:\n",
    "            strategy /= normalizingSum\n",
    "        else:\n",
    "            strategy = np.repeat(1 / self.NUM_ACTIONS, self.NUM_ACTIONS)\n",
    "        self.strategySum += strategy\n",
    "        return strategy\n",
    "    \n",
    "    def getAction(self, strategy):\n",
    "        return np.random.choice(len(strategy), p=strategy)\n",
    "    \n",
    "    def train(self, iterations):\n",
    "        actionUtility = np.zeros(self.NUM_ACTIONS)\n",
    "        \n",
    "        for i in range(iterations):\n",
    "            strategy = self.getStrategy()\n",
    "            myAction = self.getAction(strategy)\n",
    "            otherAction = self.getAction(self.oppStrategy)\n",
    "            \n",
    "            actionUtility[otherAction] = 0\n",
    "            actionUtility[0 if otherAction == self.NUM_ACTIONS - 1 else otherAction + 1] = 1\n",
    "            actionUtility[self.NUM_ACTIONS - 1 if otherAction == 0 else otherAction - 1] = -1\n",
    "            \n",
    "            for a in range(self.NUM_ACTIONS):\n",
    "                self.regretSum[a] += actionUtility[a] - actionUtility[myAction]\n",
    "    \n",
    "    def getAverageStrategy(self):\n",
    "        normalizingSum = np.sum(self.strategySum)\n",
    "        if normalizingSum > 0:\n",
    "            avgStrategy = self.strategySum / normalizingSum\n",
    "        else:\n",
    "            avgStrategy = np.repeat(1 / self.NUM_ACTIONS, self.NUM_ACTIONS)\n",
    "        return avgStrategy"
   ]
  },
  {
   "cell_type": "code",
   "execution_count": 56,
   "metadata": {},
   "outputs": [
    {
     "name": "stdout",
     "output_type": "stream",
     "text": [
      "[0.36640582 0.40592287 0.22767132]\n"
     ]
    }
   ],
   "source": [
    "trainer = RPSTrainer()\n",
    "trainer.train(1000000)\n",
    "print(trainer.getAverageStrategy())"
   ]
  },
  {
   "cell_type": "code",
   "execution_count": 45,
   "metadata": {},
   "outputs": [],
   "source": [
    "def select_action(probs):\n",
    "    \"\"\"\n",
    "    Select an action based on the given probabilities.\n",
    "    \"\"\"\n",
    "    return np.random.choice(len(probs), p=probs)\n",
    "\n",
    "def get_probs_from_regret_sum(regret_sum):\n",
    "    \"\"\"\n",
    "    Get the probabilities from the given regret sum.\n",
    "    \"\"\"\n",
    "\n",
    "    regret_sum = np.clip(regret_sum, 0, None)\n",
    "    \n",
    "    if np.sum(regret_sum) == 0:\n",
    "        return np.ones(len(regret_sum)) / len(regret_sum)\n",
    "\n",
    "    return regret_sum / np.sum(regret_sum)"
   ]
  },
  {
   "cell_type": "code",
   "execution_count": 67,
   "metadata": {},
   "outputs": [],
   "source": [
    "opponent_policy = np.array([0.4, 0.3, 0.3])\n",
    "\n",
    "ROCK = 0\n",
    "PAPER = 1\n",
    "SCISSORS = 2\n",
    "\n",
    "def utility(player_action, opponent_action):\n",
    "    \"\"\"\n",
    "    Get the utility of the given actions.\n",
    "    \"\"\"\n",
    "\n",
    "    if player_action == opponent_action:\n",
    "        return 0\n",
    "\n",
    "    if player_action == ROCK and opponent_action == SCISSORS:\n",
    "        return 1\n",
    "\n",
    "    if player_action == PAPER and opponent_action == ROCK:\n",
    "        return 1\n",
    "\n",
    "    if player_action == SCISSORS and opponent_action == PAPER:\n",
    "        return 1\n",
    "\n",
    "    return -1\n",
    "\n",
    "\n",
    "def train(iterations):\n",
    "    regret_sums = np.zeros(len(opponent_policy))\n",
    "    opp_regret_sums = np.zeros(len(opponent_policy))\n",
    "\n",
    "    strat_sums = np.zeros(len(opponent_policy))\n",
    "\n",
    "    current_policy = get_probs_from_regret_sum(regret_sums)\n",
    "    opp_current_policy = get_probs_from_regret_sum(opp_regret_sums)\n",
    "\n",
    "    for _ in range(iterations):\n",
    "        # Get the current action\n",
    "        action = select_action(current_policy)\n",
    "        # Get the opponent's action\n",
    "        opponent_action = select_action(opp_current_policy)\n",
    "\n",
    "        current_utility = utility(action, opponent_action)\n",
    "        for alternative_action in range(len(opponent_policy)):\n",
    "            if alternative_action == action:\n",
    "                continue\n",
    "\n",
    "            alternative_utility = utility(alternative_action, opponent_action)\n",
    "            regret = alternative_utility - current_utility\n",
    "\n",
    "            regret_sums[alternative_action] += regret\n",
    "\n",
    "        current_opp_utility = utility(opponent_action, action)\n",
    "        for alternative_opponent_action in range(len(opponent_policy)):\n",
    "            if alternative_opponent_action == opponent_action:\n",
    "                continue\n",
    "\n",
    "            alternative_opp_utility = utility(opponent_action, alternative_opponent_action)\n",
    "            opp_regret = alternative_opp_utility - current_opp_utility\n",
    "\n",
    "            opp_regret_sums[alternative_opponent_action] += opp_regret\n",
    "\n",
    "        # Update the current policy\n",
    "        current_policy = get_probs_from_regret_sum(regret_sums)\n",
    "        opp_current_policy = get_probs_from_regret_sum(opp_regret_sums)\n",
    "\n",
    "        strat_sums += current_policy\n",
    "\n",
    "    return current_policy, strat_sums / iterations"
   ]
  },
  {
   "cell_type": "code",
   "execution_count": 68,
   "metadata": {},
   "outputs": [
    {
     "data": {
      "text/plain": [
       "(array([0.15666667, 0.        , 0.84333333]),\n",
       " array([0.33259869, 0.33486345, 0.33253787]))"
      ]
     },
     "execution_count": 68,
     "metadata": {},
     "output_type": "execute_result"
    }
   ],
   "source": [
    "train(100000)"
   ]
  },
  {
   "cell_type": "code",
   "execution_count": null,
   "metadata": {},
   "outputs": [],
   "source": []
  }
 ],
 "metadata": {
  "interpreter": {
   "hash": "d3052e4e95856f191c70944d34dc8a88b882e97c60324a0ab85812ea24714355"
  },
  "kernelspec": {
   "display_name": "Python 3.9.7 ('tensorflow')",
   "language": "python",
   "name": "python3"
  },
  "language_info": {
   "codemirror_mode": {
    "name": "ipython",
    "version": 3
   },
   "file_extension": ".py",
   "mimetype": "text/x-python",
   "name": "python",
   "nbconvert_exporter": "python",
   "pygments_lexer": "ipython3",
   "version": "3.9.7"
  },
  "orig_nbformat": 4
 },
 "nbformat": 4,
 "nbformat_minor": 2
}
