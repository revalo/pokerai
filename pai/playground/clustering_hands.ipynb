{
 "cells": [
  {
   "cell_type": "code",
   "execution_count": 1,
   "metadata": {},
   "outputs": [],
   "source": [
    "import matplotlib.pyplot as plt\n",
    "import numpy as np\n",
    "import pandas as pd"
   ]
  },
  {
   "cell_type": "code",
   "execution_count": 2,
   "metadata": {},
   "outputs": [],
   "source": [
    "DAT_FILE = r\"C:\\Users\\shrey\\Documents\\Projects\\pokerai\\build\\preflop_dist_10000.dat\"\n",
    "\n",
    "TAG_BITS = 64\n",
    "HIST_SIZE = 50\n",
    "HIST_BITS = 16\n",
    "\n",
    "def read_data(filename):\n",
    "    rv = {}\n",
    "    with open(filename, \"rb\") as f:\n",
    "        while True:\n",
    "            tag_bytes = f.read(TAG_BITS // 8)\n",
    "            if not tag_bytes:\n",
    "                break\n",
    "            tag = int.from_bytes(tag_bytes, byteorder=\"little\", signed=True)\n",
    "\n",
    "            vals = []\n",
    "\n",
    "            for hist_index in range(HIST_SIZE):\n",
    "                hist_bytes = f.read(HIST_BITS // 8)\n",
    "                hist_val = int.from_bytes(hist_bytes, byteorder=\"little\", signed=False)\n",
    "                vals.append(hist_val)\n",
    "\n",
    "            rv[tag] = vals\n",
    "\n",
    "    return rv\n",
    "\n",
    "def dict_to_matrix(d):\n",
    "    keys = list(range(len(d)))\n",
    "    matrix = np.zeros((len(d), HIST_SIZE))\n",
    "\n",
    "    for key in keys:\n",
    "        matrix[key, :] = d[key]\n",
    "\n",
    "    return matrix\n",
    "\n",
    "dists_dict = read_data(DAT_FILE)"
   ]
  },
  {
   "cell_type": "code",
   "execution_count": 3,
   "metadata": {},
   "outputs": [
    {
     "data": {
      "text/plain": [
       "(169, 50)"
      ]
     },
     "execution_count": 3,
     "metadata": {},
     "output_type": "execute_result"
    }
   ],
   "source": [
    "dists = dict_to_matrix(dists_dict)\n",
    "dists.shape"
   ]
  },
  {
   "cell_type": "code",
   "execution_count": 4,
   "metadata": {},
   "outputs": [
    {
     "data": {
      "text/plain": [
       "[351,\n",
       " 139,\n",
       " 115,\n",
       " 188,\n",
       " 448,\n",
       " 181,\n",
       " 561,\n",
       " 393,\n",
       " 363,\n",
       " 429,\n",
       " 497,\n",
       " 567,\n",
       " 577,\n",
       " 274,\n",
       " 349,\n",
       " 207,\n",
       " 200,\n",
       " 89,\n",
       " 102,\n",
       " 97,\n",
       " 55,\n",
       " 42,\n",
       " 43,\n",
       " 57,\n",
       " 75,\n",
       " 73,\n",
       " 115,\n",
       " 102,\n",
       " 118,\n",
       " 143,\n",
       " 252,\n",
       " 227,\n",
       " 312,\n",
       " 165,\n",
       " 239,\n",
       " 181,\n",
       " 171,\n",
       " 123,\n",
       " 168,\n",
       " 158,\n",
       " 147,\n",
       " 154,\n",
       " 115,\n",
       " 142,\n",
       " 92,\n",
       " 151,\n",
       " 91,\n",
       " 102,\n",
       " 18,\n",
       " 42]"
      ]
     },
     "execution_count": 4,
     "metadata": {},
     "output_type": "execute_result"
    }
   ],
   "source": [
    "dists_dict[51]"
   ]
  },
  {
   "cell_type": "code",
   "execution_count": null,
   "metadata": {},
   "outputs": [],
   "source": []
  }
 ],
 "metadata": {
  "kernelspec": {
   "display_name": "Python 3.9.7 ('tensorflow')",
   "language": "python",
   "name": "python3"
  },
  "language_info": {
   "codemirror_mode": {
    "name": "ipython",
    "version": 3
   },
   "file_extension": ".py",
   "mimetype": "text/x-python",
   "name": "python",
   "nbconvert_exporter": "python",
   "pygments_lexer": "ipython3",
   "version": "3.9.7"
  },
  "orig_nbformat": 4,
  "vscode": {
   "interpreter": {
    "hash": "d3052e4e95856f191c70944d34dc8a88b882e97c60324a0ab85812ea24714355"
   }
  }
 },
 "nbformat": 4,
 "nbformat_minor": 2
}
